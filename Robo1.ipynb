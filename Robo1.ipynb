{
 "cells": [
  {
   "cell_type": "markdown",
   "metadata": {},
   "source": [
    "A Matriz vai de 0x0 até 10x10"
   ]
  },
  {
   "cell_type": "code",
   "execution_count": 15,
   "metadata": {},
   "outputs": [],
   "source": [
    "# Classe Point contem informações generiacas sobre a qualquer ponto na matriz\n",
    "class Point(object):\n",
    "    \n",
    "    def __init__(self, x, y):\n",
    "        self.x = x\n",
    "        self.y = y\n",
    "        \n",
    "    def __str__(self):\n",
    "        return '<%s, %s>' % (self.x, self.y)"
   ]
  },
  {
   "cell_type": "code",
   "execution_count": 16,
   "metadata": {},
   "outputs": [],
   "source": [
    "# Classe Reward tipo de ponto que possui um nome\n",
    "class Reward(Point):\n",
    "     \n",
    "    def __init__(self, x, y, name):\n",
    "        super(Reward, self).__init__(x, y)\n",
    "        self.name = name\n",
    "        \n",
    "    def __str__(self):\n",
    "        return '<%s, %s>: %s' % (self.x, self.y, self.name)\n",
    "    \n",
    "    def __repr__(self):\n",
    "        return '<Reward>: %s' % str(self)"
   ]
  },
  {
   "cell_type": "code",
   "execution_count": 17,
   "metadata": {},
   "outputs": [],
   "source": [
    "# Classe Robo percorre a matriz\n",
    "class Robo(Point):\n",
    "        \n",
    "    def move_up(self):\n",
    "        if self.y < 10:\n",
    "           self.y = self.y + 1\n",
    "        else:\n",
    "            print(\"Movimento proibido\")\n",
    "\n",
    "    def move_down(self):\n",
    "        if self.y > 0:\n",
    "           self.y = self.y - 1 \n",
    "        else:\n",
    "            print(\"Movimento proibido\")\n",
    "\n",
    "    def move_right(self):\n",
    "        if self.x < 10:\n",
    "            self.x = self.x + 1\n",
    "        else:\n",
    "            print(\"Movimento proibido\")\n",
    "\n",
    "    def move_left(self):\n",
    "        if self.x > 0:\n",
    "           self.x = self.x - 1\n",
    "        else:\n",
    "            print(\"Movimento proibido\")"
   ]
  },
  {
   "cell_type": "code",
   "execution_count": 18,
   "metadata": {},
   "outputs": [],
   "source": [
    "def check_reward(robo, rewards):\n",
    "    ok = False\n",
    "    for reward in rewards:\n",
    "        if reward.x == robo.x and reward.y == robo.y:\n",
    "            print(\"O robo achou a recompensa: %s\" % reward.name)\n",
    "            ok = True\n",
    "    return ok"
   ]
  },
  {
   "cell_type": "code",
   "execution_count": 23,
   "metadata": {},
   "outputs": [],
   "source": [
    "import random"
   ]
  },
  {
   "cell_type": "code",
   "execution_count": 24,
   "metadata": {},
   "outputs": [],
   "source": [
    "r1 = Reward(random.randint(0, 10), random.randint(0, 10), 'moeda')\n",
    "r2 = Reward(random.randint(0, 10), random.randint(0, 10), 'gasolina')\n",
    "r3 = Reward(random.randint(0, 10), random.randint(0, 10), 'arma')\n",
    "r4 = Reward(random.randint(0, 10), random.randint(0, 10), 'moeda')\n",
    "r5 = Reward(random.randint(0, 10), random.randint(0, 10), 'gasolina')\n",
    "r6 = Reward(random.randint(0, 10), random.randint(0, 10), 'arma')\n",
    "r7 = Reward(random.randint(0, 10), random.randint(0, 10), 'moeda')\n",
    "r8 = Reward(random.randint(0, 10), random.randint(0, 10), 'gasolina')\n",
    "r9 = Reward(random.randint(0, 10), random.randint(0, 10), 'arma')\n",
    "rewards = [r1, r2, r3, r4, r5, r6, r7, r8, r9]"
   ]
  },
  {
   "cell_type": "code",
   "execution_count": 25,
   "metadata": {},
   "outputs": [],
   "source": [
    "robo = Robo(random.randint(0, 10), random.randint(0, 10))"
   ]
  },
  {
   "cell_type": "code",
   "execution_count": 26,
   "metadata": {},
   "outputs": [
    {
     "data": {
      "text/plain": [
       "'<3, 3>'"
      ]
     },
     "execution_count": 26,
     "metadata": {},
     "output_type": "execute_result"
    }
   ],
   "source": [
    "str(robo)"
   ]
  },
  {
   "cell_type": "code",
   "execution_count": 28,
   "metadata": {},
   "outputs": [
    {
     "name": "stdout",
     "output_type": "stream",
     "text": [
      "Digite up, down, left ou right para mover: left\n",
      "<8, 7>\n",
      "Digite up, down, left ou right para mover: left\n",
      "<7, 7>\n",
      "Digite up, down, left ou right para mover: left\n",
      "<6, 7>\n",
      "Digite up, down, left ou right para mover: down\n",
      "<6, 6>\n",
      "Digite up, down, left ou right para mover: down\n",
      "<6, 5>\n",
      "Digite up, down, left ou right para mover: down\n",
      "<6, 4>\n",
      "Digite up, down, left ou right para mover: left\n",
      "<5, 4>\n",
      "Digite up, down, left ou right para mover: down\n",
      "<5, 3>\n",
      "Digite up, down, left ou right para mover: right\n",
      "<6, 3>\n",
      "Digite up, down, left ou right para mover: down\n",
      "<6, 2>\n",
      "O robo achou a recompensa: moeda\n"
     ]
    }
   ],
   "source": [
    "for i in range(10):\n",
    "    moviment = input('Digite up, down, left ou right para mover: ')\n",
    "    if moviment == 'up':\n",
    "        robo.move_up()\n",
    "    elif moviment == 'down':\n",
    "        robo.move_down()\n",
    "    elif moviment == 'right':\n",
    "        robo.move_right()\n",
    "    elif moviment == 'left':\n",
    "        robo.move_left()\n",
    "    else:\n",
    "        print(\"Movimento inválido\")\n",
    "        continue\n",
    "    print(robo)\n",
    "    check_reward(robo, rewards)"
   ]
  },
  {
   "cell_type": "raw",
   "metadata": {},
   "source": []
  }
 ],
 "metadata": {
  "kernelspec": {
   "display_name": "Python 3",
   "language": "python",
   "name": "python3"
  },
  "language_info": {
   "codemirror_mode": {
    "name": "ipython",
    "version": 3
   },
   "file_extension": ".py",
   "mimetype": "text/x-python",
   "name": "python",
   "nbconvert_exporter": "python",
   "pygments_lexer": "ipython3",
   "version": "3.7.6"
  }
 },
 "nbformat": 4,
 "nbformat_minor": 4
}
